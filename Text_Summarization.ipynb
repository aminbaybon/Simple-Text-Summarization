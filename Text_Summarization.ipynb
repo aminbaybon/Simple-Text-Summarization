{
  "nbformat": 4,
  "nbformat_minor": 0,
  "metadata": {
    "colab": {
      "provenance": [],
      "authorship_tag": "ABX9TyMMAYf0DjN218u5x+UxfItm",
      "include_colab_link": true
    },
    "kernelspec": {
      "name": "python3",
      "display_name": "Python 3"
    },
    "language_info": {
      "name": "python"
    }
  },
  "cells": [
    {
      "cell_type": "markdown",
      "metadata": {
        "id": "view-in-github",
        "colab_type": "text"
      },
      "source": [
        "<a href=\"https://colab.research.google.com/github/aminbaybon/Simple-Text-Summarization/blob/main/Text_Summarization.ipynb\" target=\"_parent\"><img src=\"https://colab.research.google.com/assets/colab-badge.svg\" alt=\"Open In Colab\"/></a>"
      ]
    },
    {
      "cell_type": "code",
      "execution_count": 1,
      "metadata": {
        "id": "8_gZRbLaScRQ"
      },
      "outputs": [],
      "source": [
        "text = \"\"\"One fighter was shot twice, sent from the hospital back to the front, where he drank melted snow to live. Forced to assault Ukrainian positions repeatedly, until a grenade blinded him. Saved from the trenches by a doctor who made him a hospital orderly.\n",
        "Another was jailed at 20 for minor drugs charges, sent to the front aged 23. Given almost no training, he was dead three weeks later - among likely 60 Russians killed in an assault on the very day Russian President Vladimir Putin celebrated the defeat of the Nazis in Red Square.\n",
        "These two stories, of remarkable survival and premature death, epitomize the squalid and exhausting loss of life in Russia’s trenches. Yet there is one distinction: the dead are prisoners, promised respite from their jail terms if they join so-called Storm-Z battalions run by the Russian Ministry of Defense.\n",
        "Life expectancy is short, conditions themselves tough to survive, and convicts describe being used as cannon fodder. Tens of thousands of convicts have been recruited to serve at the front line, at first by the mercenary group Wagner – a scheme then taken over by the defense ministry.\n",
        "CNN spoke to the mother of one convict, Andrei, who was jailed aged 20 on drug charges and sent to the front line as part of the Russian military’s recruitment program. The mother provided extensive video, documentation and chat messages to verify her son’s story, and his early death, just three weeks after deployment.\n",
        "CNN also spoke to a rare survivor of the Storm-Z units, Sergei – who was first interviewed by phone in a military hospital months earlier and last week recounted the savage and deteriorating life in the Russian trenches.\n",
        "While the appalling fighting conditions are well known, much Russian testimony is from prisoners of war, and provided through Ukrainian facilitators. These two stories represent rare testimony delivered directly from Russians. CNN has changed the names and removed key details from these two accounts for the safety of the interviewees.\n",
        "Sergei now works two jobs to keep his family fed, but said he is still waiting for military compensation for his multiple injuries. His ears ring at night from the shell shock, making it hard to sleep in the silence of his home.\n",
        "He said he was concussed nine times from artillery shells landing nearby while on the front line, over an eight-month period. Last winter he was shot in the leg, then sent back to the front after 10 days’ treatment, he said. He was shot again, in the shoulder, and properly hospitalized. Two months later, a manpower shortage meant he was sent again to the front lines, where he said he found convict amputees had been given radio duties, and troops were discarding their bulletproof vests as they had minimal protective value.\n",
        "“They don’t help against shells, since their [Ukrainian] artillery strikes with high accuracy,” Sergei said. “Our artillery can fire three or four times, and God willing something explodes. It’s crooked and most often, it hit us first.”\"\"\""
      ]
    },
    {
      "cell_type": "code",
      "source": [
        "len(text)"
      ],
      "metadata": {
        "colab": {
          "base_uri": "https://localhost:8080/"
        },
        "id": "4TqHBA-GS9Ab",
        "outputId": "c1639594-b988-4782-add7-b5ea94c3c6bd"
      },
      "execution_count": 2,
      "outputs": [
        {
          "output_type": "execute_result",
          "data": {
            "text/plain": [
              "3002"
            ]
          },
          "metadata": {},
          "execution_count": 2
        }
      ]
    },
    {
      "cell_type": "code",
      "source": [
        "import spacy\n",
        "from spacy.lang.en.stop_words import STOP_WORDS\n",
        "from string import punctuation\n",
        "from nltk import FreqDist"
      ],
      "metadata": {
        "id": "QtqKHU_8TAO1"
      },
      "execution_count": 23,
      "outputs": []
    },
    {
      "cell_type": "code",
      "source": [
        "nlp = spacy.load(\"en_core_web_sm\")"
      ],
      "metadata": {
        "id": "7129aeZbTQOR"
      },
      "execution_count": 4,
      "outputs": []
    },
    {
      "cell_type": "code",
      "source": [
        "doc = nlp(text)"
      ],
      "metadata": {
        "id": "s9YiZUa5TW01"
      },
      "execution_count": 5,
      "outputs": []
    },
    {
      "cell_type": "code",
      "source": [
        "doc.text"
      ],
      "metadata": {
        "colab": {
          "base_uri": "https://localhost:8080/",
          "height": 157
        },
        "id": "vP0UdjLJTaNf",
        "outputId": "257c56a1-1930-48a5-9c99-cb37f3900930"
      },
      "execution_count": 7,
      "outputs": [
        {
          "output_type": "execute_result",
          "data": {
            "text/plain": [
              "'One fighter was shot twice, sent from the hospital back to the front, where he drank melted snow to live. Forced to assault Ukrainian positions repeatedly, until a grenade blinded him. Saved from the trenches by a doctor who made him a hospital orderly.\\nAnother was jailed at 20 for minor drugs charges, sent to the front aged 23. Given almost no training, he was dead three weeks later - among likely 60 Russians killed in an assault on the very day Russian President Vladimir Putin celebrated the defeat of the Nazis in Red Square.\\nThese two stories, of remarkable survival and premature death, epitomize the squalid and exhausting loss of life in Russia’s trenches. Yet there is one distinction: the dead are prisoners, promised respite from their jail terms if they join so-called Storm-Z battalions run by the Russian Ministry of Defense.\\nLife expectancy is short, conditions themselves tough to survive, and convicts describe being used as cannon fodder. Tens of thousands of convicts have been recruited to serve at the front line, at first by the mercenary group Wagner – a scheme then taken over by the defense ministry.\\nCNN spoke to the mother of one convict, Andrei, who was jailed aged 20 on drug charges and sent to the front line as part of the Russian military’s recruitment program. The mother provided extensive video, documentation and chat messages to verify her son’s story, and his early death, just three weeks after deployment.\\nCNN also spoke to a rare survivor of the Storm-Z units, Sergei – who was first interviewed by phone in a military hospital months earlier and last week recounted the savage and deteriorating life in the Russian trenches.\\nWhile the appalling fighting conditions are well known, much Russian testimony is from prisoners of war, and provided through Ukrainian facilitators. These two stories represent rare testimony delivered directly from Russians. CNN has changed the names and removed key details from these two accounts for the safety of the interviewees.\\nSergei now works two jobs to keep his family fed, but said he is still waiting for military compensation for his multiple injuries. His ears ring at night from the shell shock, making it hard to sleep in the silence of his home.\\nHe said he was concussed nine times from artillery shells landing nearby while on the front line, over an eight-month period. Last winter he was shot in the leg, then sent back to the front after 10 days’ treatment, he said. He was shot again, in the shoulder, and properly hospitalized. Two months later, a manpower shortage meant he was sent again to the front lines, where he said he found convict amputees had been given radio duties, and troops were discarding their bulletproof vests as they had minimal protective value.\\n“They don’t help against shells, since their [Ukrainian] artillery strikes with high accuracy,” Sergei said. “Our artillery can fire three or four times, and God willing something explodes. It’s crooked and most often, it hit us first.”'"
            ],
            "application/vnd.google.colaboratory.intrinsic+json": {
              "type": "string"
            }
          },
          "metadata": {},
          "execution_count": 7
        }
      ]
    },
    {
      "cell_type": "code",
      "source": [
        "for i in doc.sents:\n",
        "    print(i)"
      ],
      "metadata": {
        "colab": {
          "base_uri": "https://localhost:8080/"
        },
        "id": "x3VTYgPFfse7",
        "outputId": "7e882205-0f89-40fe-d730-142e5d38e180"
      },
      "execution_count": 88,
      "outputs": [
        {
          "output_type": "stream",
          "name": "stdout",
          "text": [
            "One fighter was shot twice, sent from the hospital back to the front, where he drank melted snow to live.\n",
            "Forced to assault Ukrainian positions repeatedly, until a grenade blinded him.\n",
            "Saved from the trenches by a doctor who made him a hospital orderly.\n",
            "\n",
            "Another was jailed at 20 for minor drugs charges, sent to the front aged 23.\n",
            "Given almost no training, he was dead three weeks later - among likely 60 Russians killed in an assault on the very day Russian President Vladimir Putin celebrated the defeat of the Nazis in Red Square.\n",
            "\n",
            "These two stories, of remarkable survival and premature death, epitomize the squalid and exhausting loss of life in Russia’s trenches.\n",
            "Yet there is one distinction: the dead are prisoners, promised respite from their jail terms if they join so-called Storm-Z battalions run by the Russian Ministry of Defense.\n",
            "\n",
            "Life expectancy is short, conditions themselves tough to survive, and convicts describe being used as cannon fodder.\n",
            "Tens of thousands of convicts have been recruited to serve at the front line, at first by the mercenary group Wagner – a scheme then taken over by the defense ministry.\n",
            "\n",
            "CNN spoke to the mother of one convict, Andrei, who was jailed aged 20 on drug charges and sent to the front line as part of the Russian military’s recruitment program.\n",
            "The mother provided extensive video, documentation and chat messages to verify her son’s story, and his early death, just three weeks after deployment.\n",
            "\n",
            "CNN also spoke to a rare survivor of the Storm-Z units, Sergei – who was first interviewed by phone in a military hospital months earlier and last week recounted the savage and deteriorating life in the Russian trenches.\n",
            "\n",
            "While the appalling fighting conditions are well known, much Russian testimony is from prisoners of war, and provided through Ukrainian facilitators.\n",
            "These two stories represent rare testimony delivered directly from Russians.\n",
            "CNN has changed the names and removed key details from these two accounts for the safety of the interviewees.\n",
            "\n",
            "Sergei now works two jobs to keep his family fed, but said he is still waiting for military compensation for his multiple injuries.\n",
            "His ears ring at night from the shell shock, making it hard to sleep in the silence of his home.\n",
            "\n",
            "He said he was concussed nine times from artillery shells landing nearby while on the front line, over an eight-month period.\n",
            "Last winter he was shot in the leg, then sent back to the front after 10 days’ treatment, he said.\n",
            "He was shot again, in the shoulder, and properly hospitalized.\n",
            "Two months later, a manpower shortage meant he was sent again to the front lines, where he said he found convict amputees had been given radio duties, and troops were discarding their bulletproof vests as they had minimal protective value.\n",
            "\n",
            "“They don’t help against shells, since their [Ukrainian] artillery strikes with high accuracy,” Sergei said.\n",
            "“Our artillery can fire three or four times, and God willing something explodes.\n",
            "It’s crooked and most often, it hit us first.”\n"
          ]
        }
      ]
    },
    {
      "cell_type": "code",
      "source": [
        "#for word in doc:\n",
        "#   print(word.text , word.pos_)"
      ],
      "metadata": {
        "id": "lTtdVV1GTbpD"
      },
      "execution_count": 15,
      "outputs": []
    },
    {
      "cell_type": "code",
      "source": [
        "tokens = [token.text for token in doc]"
      ],
      "metadata": {
        "id": "k1wDRn15TijL"
      },
      "execution_count": 16,
      "outputs": []
    },
    {
      "cell_type": "code",
      "source": [
        "print(tokens)"
      ],
      "metadata": {
        "colab": {
          "base_uri": "https://localhost:8080/"
        },
        "id": "AN0pEib6VIfq",
        "outputId": "78b3ce73-9444-4204-8a65-c92b4eaa803e"
      },
      "execution_count": 17,
      "outputs": [
        {
          "output_type": "stream",
          "name": "stdout",
          "text": [
            "['One', 'fighter', 'was', 'shot', 'twice', ',', 'sent', 'from', 'the', 'hospital', 'back', 'to', 'the', 'front', ',', 'where', 'he', 'drank', 'melted', 'snow', 'to', 'live', '.', 'Forced', 'to', 'assault', 'Ukrainian', 'positions', 'repeatedly', ',', 'until', 'a', 'grenade', 'blinded', 'him', '.', 'Saved', 'from', 'the', 'trenches', 'by', 'a', 'doctor', 'who', 'made', 'him', 'a', 'hospital', 'orderly', '.', '\\n', 'Another', 'was', 'jailed', 'at', '20', 'for', 'minor', 'drugs', 'charges', ',', 'sent', 'to', 'the', 'front', 'aged', '23', '.', 'Given', 'almost', 'no', 'training', ',', 'he', 'was', 'dead', 'three', 'weeks', 'later', '-', 'among', 'likely', '60', 'Russians', 'killed', 'in', 'an', 'assault', 'on', 'the', 'very', 'day', 'Russian', 'President', 'Vladimir', 'Putin', 'celebrated', 'the', 'defeat', 'of', 'the', 'Nazis', 'in', 'Red', 'Square', '.', '\\n', 'These', 'two', 'stories', ',', 'of', 'remarkable', 'survival', 'and', 'premature', 'death', ',', 'epitomize', 'the', 'squalid', 'and', 'exhausting', 'loss', 'of', 'life', 'in', 'Russia', '’s', 'trenches', '.', 'Yet', 'there', 'is', 'one', 'distinction', ':', 'the', 'dead', 'are', 'prisoners', ',', 'promised', 'respite', 'from', 'their', 'jail', 'terms', 'if', 'they', 'join', 'so', '-', 'called', 'Storm', '-', 'Z', 'battalions', 'run', 'by', 'the', 'Russian', 'Ministry', 'of', 'Defense', '.', '\\n', 'Life', 'expectancy', 'is', 'short', ',', 'conditions', 'themselves', 'tough', 'to', 'survive', ',', 'and', 'convicts', 'describe', 'being', 'used', 'as', 'cannon', 'fodder', '.', 'Tens', 'of', 'thousands', 'of', 'convicts', 'have', 'been', 'recruited', 'to', 'serve', 'at', 'the', 'front', 'line', ',', 'at', 'first', 'by', 'the', 'mercenary', 'group', 'Wagner', '–', 'a', 'scheme', 'then', 'taken', 'over', 'by', 'the', 'defense', 'ministry', '.', '\\n', 'CNN', 'spoke', 'to', 'the', 'mother', 'of', 'one', 'convict', ',', 'Andrei', ',', 'who', 'was', 'jailed', 'aged', '20', 'on', 'drug', 'charges', 'and', 'sent', 'to', 'the', 'front', 'line', 'as', 'part', 'of', 'the', 'Russian', 'military', '’s', 'recruitment', 'program', '.', 'The', 'mother', 'provided', 'extensive', 'video', ',', 'documentation', 'and', 'chat', 'messages', 'to', 'verify', 'her', 'son', '’s', 'story', ',', 'and', 'his', 'early', 'death', ',', 'just', 'three', 'weeks', 'after', 'deployment', '.', '\\n', 'CNN', 'also', 'spoke', 'to', 'a', 'rare', 'survivor', 'of', 'the', 'Storm', '-', 'Z', 'units', ',', 'Sergei', '–', 'who', 'was', 'first', 'interviewed', 'by', 'phone', 'in', 'a', 'military', 'hospital', 'months', 'earlier', 'and', 'last', 'week', 'recounted', 'the', 'savage', 'and', 'deteriorating', 'life', 'in', 'the', 'Russian', 'trenches', '.', '\\n', 'While', 'the', 'appalling', 'fighting', 'conditions', 'are', 'well', 'known', ',', 'much', 'Russian', 'testimony', 'is', 'from', 'prisoners', 'of', 'war', ',', 'and', 'provided', 'through', 'Ukrainian', 'facilitators', '.', 'These', 'two', 'stories', 'represent', 'rare', 'testimony', 'delivered', 'directly', 'from', 'Russians', '.', 'CNN', 'has', 'changed', 'the', 'names', 'and', 'removed', 'key', 'details', 'from', 'these', 'two', 'accounts', 'for', 'the', 'safety', 'of', 'the', 'interviewees', '.', '\\n', 'Sergei', 'now', 'works', 'two', 'jobs', 'to', 'keep', 'his', 'family', 'fed', ',', 'but', 'said', 'he', 'is', 'still', 'waiting', 'for', 'military', 'compensation', 'for', 'his', 'multiple', 'injuries', '.', 'His', 'ears', 'ring', 'at', 'night', 'from', 'the', 'shell', 'shock', ',', 'making', 'it', 'hard', 'to', 'sleep', 'in', 'the', 'silence', 'of', 'his', 'home', '.', '\\n', 'He', 'said', 'he', 'was', 'concussed', 'nine', 'times', 'from', 'artillery', 'shells', 'landing', 'nearby', 'while', 'on', 'the', 'front', 'line', ',', 'over', 'an', 'eight', '-', 'month', 'period', '.', 'Last', 'winter', 'he', 'was', 'shot', 'in', 'the', 'leg', ',', 'then', 'sent', 'back', 'to', 'the', 'front', 'after', '10', 'days', '’', 'treatment', ',', 'he', 'said', '.', 'He', 'was', 'shot', 'again', ',', 'in', 'the', 'shoulder', ',', 'and', 'properly', 'hospitalized', '.', 'Two', 'months', 'later', ',', 'a', 'manpower', 'shortage', 'meant', 'he', 'was', 'sent', 'again', 'to', 'the', 'front', 'lines', ',', 'where', 'he', 'said', 'he', 'found', 'convict', 'amputees', 'had', 'been', 'given', 'radio', 'duties', ',', 'and', 'troops', 'were', 'discarding', 'their', 'bulletproof', 'vests', 'as', 'they', 'had', 'minimal', 'protective', 'value', '.', '\\n', '“', 'They', 'do', 'n’t', 'help', 'against', 'shells', ',', 'since', 'their', '[', 'Ukrainian', ']', 'artillery', 'strikes', 'with', 'high', 'accuracy', ',', '”', 'Sergei', 'said', '.', '“', 'Our', 'artillery', 'can', 'fire', 'three', 'or', 'four', 'times', ',', 'and', 'God', 'willing', 'something', 'explodes', '.', 'It', '’s', 'crooked', 'and', 'most', 'often', ',', 'it', 'hit', 'us', 'first', '.', '”']\n"
          ]
        }
      ]
    },
    {
      "cell_type": "code",
      "source": [
        "if \"\\n\" in tokens:\n",
        "    print(\"yes\")"
      ],
      "metadata": {
        "colab": {
          "base_uri": "https://localhost:8080/"
        },
        "id": "jdhzApQWVJ9G",
        "outputId": "daaec5d9-1e82-4cc8-ec84-a88c8b17dbc8"
      },
      "execution_count": 18,
      "outputs": [
        {
          "output_type": "stream",
          "name": "stdout",
          "text": [
            "yes\n"
          ]
        }
      ]
    },
    {
      "cell_type": "code",
      "source": [
        "punctuations = punctuation + '\\n'"
      ],
      "metadata": {
        "id": "Y3KvcdkBVT36"
      },
      "execution_count": 36,
      "outputs": []
    },
    {
      "cell_type": "code",
      "source": [
        "fdist1 = FreqDist(tokens)\n",
        "print(fdist1)\n",
        "print(fdist1.most_common())"
      ],
      "metadata": {
        "colab": {
          "base_uri": "https://localhost:8080/"
        },
        "id": "QSrMpDpcVeiG",
        "outputId": "8948b7ec-0e89-4978-f5c5-ff92e57bac8a"
      },
      "execution_count": 24,
      "outputs": [
        {
          "output_type": "stream",
          "name": "stdout",
          "text": [
            "<FreqDist with 307 samples and 591 outcomes>\n",
            "[(',', 33), ('the', 30), ('.', 24), ('to', 14), ('and', 14), ('of', 12), ('was', 9), ('he', 9), ('\\n', 9), ('from', 8), ('in', 8), ('front', 7), ('a', 7), ('sent', 5), ('by', 5), ('-', 5), ('Russian', 5), ('said', 5), ('at', 4), ('for', 4), ('two', 4), ('’s', 4), ('is', 4), ('his', 4), ('shot', 3), ('hospital', 3), ('Ukrainian', 3), ('trenches', 3), ('who', 3), ('three', 3), ('on', 3), ('their', 3), ('as', 3), ('line', 3), ('first', 3), ('CNN', 3), ('military', 3), ('Sergei', 3), ('artillery', 3), ('back', 2), ('where', 2), ('assault', 2), ('him', 2), ('jailed', 2), ('20', 2), ('charges', 2), ('aged', 2), ('dead', 2), ('weeks', 2), ('later', 2), ('Russians', 2), ('an', 2), ('These', 2), ('stories', 2), ('death', 2), ('life', 2), ('one', 2), ('are', 2), ('prisoners', 2), ('they', 2), ('Storm', 2), ('Z', 2), ('conditions', 2), ('convicts', 2), ('been', 2), ('–', 2), ('then', 2), ('over', 2), ('spoke', 2), ('mother', 2), ('convict', 2), ('provided', 2), ('after', 2), ('rare', 2), ('months', 2), ('testimony', 2), ('it', 2), ('He', 2), ('times', 2), ('shells', 2), ('again', 2), ('had', 2), ('“', 2), ('”', 2), ('One', 1), ('fighter', 1), ('twice', 1), ('drank', 1), ('melted', 1), ('snow', 1), ('live', 1), ('Forced', 1), ('positions', 1), ('repeatedly', 1), ('until', 1), ('grenade', 1), ('blinded', 1), ('Saved', 1), ('doctor', 1), ('made', 1), ('orderly', 1), ('Another', 1), ('minor', 1), ('drugs', 1), ('23', 1), ('Given', 1), ('almost', 1), ('no', 1), ('training', 1), ('among', 1), ('likely', 1), ('60', 1), ('killed', 1), ('very', 1), ('day', 1), ('President', 1), ('Vladimir', 1), ('Putin', 1), ('celebrated', 1), ('defeat', 1), ('Nazis', 1), ('Red', 1), ('Square', 1), ('remarkable', 1), ('survival', 1), ('premature', 1), ('epitomize', 1), ('squalid', 1), ('exhausting', 1), ('loss', 1), ('Russia', 1), ('Yet', 1), ('there', 1), ('distinction', 1), (':', 1), ('promised', 1), ('respite', 1), ('jail', 1), ('terms', 1), ('if', 1), ('join', 1), ('so', 1), ('called', 1), ('battalions', 1), ('run', 1), ('Ministry', 1), ('Defense', 1), ('Life', 1), ('expectancy', 1), ('short', 1), ('themselves', 1), ('tough', 1), ('survive', 1), ('describe', 1), ('being', 1), ('used', 1), ('cannon', 1), ('fodder', 1), ('Tens', 1), ('thousands', 1), ('have', 1), ('recruited', 1), ('serve', 1), ('mercenary', 1), ('group', 1), ('Wagner', 1), ('scheme', 1), ('taken', 1), ('defense', 1), ('ministry', 1), ('Andrei', 1), ('drug', 1), ('part', 1), ('recruitment', 1), ('program', 1), ('The', 1), ('extensive', 1), ('video', 1), ('documentation', 1), ('chat', 1), ('messages', 1), ('verify', 1), ('her', 1), ('son', 1), ('story', 1), ('early', 1), ('just', 1), ('deployment', 1), ('also', 1), ('survivor', 1), ('units', 1), ('interviewed', 1), ('phone', 1), ('earlier', 1), ('last', 1), ('week', 1), ('recounted', 1), ('savage', 1), ('deteriorating', 1), ('While', 1), ('appalling', 1), ('fighting', 1), ('well', 1), ('known', 1), ('much', 1), ('war', 1), ('through', 1), ('facilitators', 1), ('represent', 1), ('delivered', 1), ('directly', 1), ('has', 1), ('changed', 1), ('names', 1), ('removed', 1), ('key', 1), ('details', 1), ('these', 1), ('accounts', 1), ('safety', 1), ('interviewees', 1), ('now', 1), ('works', 1), ('jobs', 1), ('keep', 1), ('family', 1), ('fed', 1), ('but', 1), ('still', 1), ('waiting', 1), ('compensation', 1), ('multiple', 1), ('injuries', 1), ('His', 1), ('ears', 1), ('ring', 1), ('night', 1), ('shell', 1), ('shock', 1), ('making', 1), ('hard', 1), ('sleep', 1), ('silence', 1), ('home', 1), ('concussed', 1), ('nine', 1), ('landing', 1), ('nearby', 1), ('while', 1), ('eight', 1), ('month', 1), ('period', 1), ('Last', 1), ('winter', 1), ('leg', 1), ('10', 1), ('days', 1), ('’', 1), ('treatment', 1), ('shoulder', 1), ('properly', 1), ('hospitalized', 1), ('Two', 1), ('manpower', 1), ('shortage', 1), ('meant', 1), ('lines', 1), ('found', 1), ('amputees', 1), ('given', 1), ('radio', 1), ('duties', 1), ('troops', 1), ('were', 1), ('discarding', 1), ('bulletproof', 1), ('vests', 1), ('minimal', 1), ('protective', 1), ('value', 1), ('They', 1), ('do', 1), ('n’t', 1), ('help', 1), ('against', 1), ('since', 1), ('[', 1), (']', 1), ('strikes', 1), ('with', 1), ('high', 1), ('accuracy', 1), ('Our', 1), ('can', 1), ('fire', 1), ('or', 1), ('four', 1), ('God', 1), ('willing', 1), ('something', 1), ('explodes', 1), ('It', 1), ('crooked', 1), ('most', 1), ('often', 1), ('hit', 1), ('us', 1)]\n"
          ]
        }
      ]
    },
    {
      "cell_type": "code",
      "source": [
        "fdist1['front']"
      ],
      "metadata": {
        "colab": {
          "base_uri": "https://localhost:8080/"
        },
        "id": "R-O81_8bcNlr",
        "outputId": "ea7bc8df-f2e5-4faa-9cb4-ca778e1d5099"
      },
      "execution_count": 51,
      "outputs": [
        {
          "output_type": "execute_result",
          "data": {
            "text/plain": [
              "7"
            ]
          },
          "metadata": {},
          "execution_count": 51
        }
      ]
    },
    {
      "cell_type": "code",
      "source": [
        "a = {}\n",
        "a['j'] = 1"
      ],
      "metadata": {
        "id": "joOY_eK4ch1f"
      },
      "execution_count": 54,
      "outputs": []
    },
    {
      "cell_type": "code",
      "source": [
        "if 'j' in a.keys():\n",
        "    print('yes')"
      ],
      "metadata": {
        "colab": {
          "base_uri": "https://localhost:8080/"
        },
        "id": "HXmxSR71ct8S",
        "outputId": "11ddda69-0773-4a2b-d672-0f3b2c275979"
      },
      "execution_count": 56,
      "outputs": [
        {
          "output_type": "stream",
          "name": "stdout",
          "text": [
            "yes\n"
          ]
        }
      ]
    },
    {
      "cell_type": "code",
      "source": [
        "a['j'] = 2"
      ],
      "metadata": {
        "id": "VuWaGsfLcmA9"
      },
      "execution_count": 57,
      "outputs": []
    },
    {
      "cell_type": "code",
      "source": [
        "a"
      ],
      "metadata": {
        "colab": {
          "base_uri": "https://localhost:8080/"
        },
        "id": "W7LtiLubc07t",
        "outputId": "3e1b7a5d-ac86-4784-c189-5bbec708994b"
      },
      "execution_count": 58,
      "outputs": [
        {
          "output_type": "execute_result",
          "data": {
            "text/plain": [
              "{'j': 2}"
            ]
          },
          "metadata": {},
          "execution_count": 58
        }
      ]
    },
    {
      "cell_type": "code",
      "source": [
        "dict1 = {}\n",
        "stop_words = list(STOP_WORDS)\n",
        "for item in fdist1:\n",
        "    temp = item.lower()\n",
        "    if temp not in stop_words and temp not in punctuations:\n",
        "        if temp not in dict1.keys():\n",
        "            dict1[temp] = fdist1[item]\n"
      ],
      "metadata": {
        "id": "xglRZ98OWOI9"
      },
      "execution_count": 74,
      "outputs": []
    },
    {
      "cell_type": "code",
      "source": [
        "max1 = max(dict1.values())"
      ],
      "metadata": {
        "id": "64SP1vGue4QM"
      },
      "execution_count": 78,
      "outputs": []
    },
    {
      "cell_type": "code",
      "source": [
        "max1"
      ],
      "metadata": {
        "colab": {
          "base_uri": "https://localhost:8080/"
        },
        "id": "0CwqSER2e8Wz",
        "outputId": "f610d22c-42f9-4bac-ba6b-1ed2c228684e"
      },
      "execution_count": 79,
      "outputs": [
        {
          "output_type": "execute_result",
          "data": {
            "text/plain": [
              "5"
            ]
          },
          "metadata": {},
          "execution_count": 79
        }
      ]
    },
    {
      "cell_type": "code",
      "source": [
        "for word in dict1.keys():\n",
        "    dict1[word] = float(dict1[word]/max1)"
      ],
      "metadata": {
        "id": "Bw7So9aXbXt9"
      },
      "execution_count": 82,
      "outputs": []
    },
    {
      "cell_type": "code",
      "source": [
        "print(dict1)"
      ],
      "metadata": {
        "colab": {
          "base_uri": "https://localhost:8080/"
        },
        "id": "W1PC4pwZezs7",
        "outputId": "c845148c-be8e-459a-f2af-1a2541bfb715"
      },
      "execution_count": 84,
      "outputs": [
        {
          "output_type": "stream",
          "name": "stdout",
          "text": [
            "{'sent': 1.0, 'russian': 1.0, 'said': 1.0, 'shot': 0.6, 'hospital': 0.6, 'ukrainian': 0.6, 'trenches': 0.6, 'line': 0.6, 'cnn': 0.6, 'military': 0.6, 'sergei': 0.6, 'artillery': 0.6, 'assault': 0.4, 'jailed': 0.4, '20': 0.4, 'charges': 0.4, 'aged': 0.4, 'dead': 0.4, 'weeks': 0.4, 'later': 0.4, 'russians': 0.4, 'stories': 0.4, 'death': 0.4, 'life': 0.4, 'prisoners': 0.4, 'storm': 0.4, 'z': 0.4, 'conditions': 0.4, 'convicts': 0.4, '–': 0.4, 'spoke': 0.4, 'mother': 0.4, 'convict': 0.4, 'provided': 0.4, 'rare': 0.4, 'months': 0.4, 'testimony': 0.4, 'times': 0.4, 'shells': 0.4, '“': 0.4, '”': 0.4, 'fighter': 0.2, 'twice': 0.2, 'drank': 0.2, 'melted': 0.2, 'snow': 0.2, 'live': 0.2, 'forced': 0.2, 'positions': 0.2, 'repeatedly': 0.2, 'grenade': 0.2, 'blinded': 0.2, 'saved': 0.2, 'doctor': 0.2, 'orderly': 0.2, 'minor': 0.2, 'drugs': 0.2, '23': 0.2, 'given': 0.2, 'training': 0.2, 'likely': 0.2, '60': 0.2, 'killed': 0.2, 'day': 0.2, 'president': 0.2, 'vladimir': 0.2, 'putin': 0.2, 'celebrated': 0.2, 'defeat': 0.2, 'nazis': 0.2, 'red': 0.2, 'square': 0.2, 'remarkable': 0.2, 'survival': 0.2, 'premature': 0.2, 'epitomize': 0.2, 'squalid': 0.2, 'exhausting': 0.2, 'loss': 0.2, 'russia': 0.2, 'distinction': 0.2, 'promised': 0.2, 'respite': 0.2, 'jail': 0.2, 'terms': 0.2, 'join': 0.2, 'called': 0.2, 'battalions': 0.2, 'run': 0.2, 'ministry': 0.2, 'defense': 0.2, 'expectancy': 0.2, 'short': 0.2, 'tough': 0.2, 'survive': 0.2, 'describe': 0.2, 'cannon': 0.2, 'fodder': 0.2, 'tens': 0.2, 'thousands': 0.2, 'recruited': 0.2, 'serve': 0.2, 'mercenary': 0.2, 'group': 0.2, 'wagner': 0.2, 'scheme': 0.2, 'taken': 0.2, 'andrei': 0.2, 'drug': 0.2, 'recruitment': 0.2, 'program': 0.2, 'extensive': 0.2, 'video': 0.2, 'documentation': 0.2, 'chat': 0.2, 'messages': 0.2, 'verify': 0.2, 'son': 0.2, 'story': 0.2, 'early': 0.2, 'deployment': 0.2, 'survivor': 0.2, 'units': 0.2, 'interviewed': 0.2, 'phone': 0.2, 'earlier': 0.2, 'week': 0.2, 'recounted': 0.2, 'savage': 0.2, 'deteriorating': 0.2, 'appalling': 0.2, 'fighting': 0.2, 'known': 0.2, 'war': 0.2, 'facilitators': 0.2, 'represent': 0.2, 'delivered': 0.2, 'directly': 0.2, 'changed': 0.2, 'names': 0.2, 'removed': 0.2, 'key': 0.2, 'details': 0.2, 'accounts': 0.2, 'safety': 0.2, 'interviewees': 0.2, 'works': 0.2, 'jobs': 0.2, 'family': 0.2, 'fed': 0.2, 'waiting': 0.2, 'compensation': 0.2, 'multiple': 0.2, 'injuries': 0.2, 'ears': 0.2, 'ring': 0.2, 'night': 0.2, 'shell': 0.2, 'shock': 0.2, 'making': 0.2, 'hard': 0.2, 'sleep': 0.2, 'silence': 0.2, 'home': 0.2, 'concussed': 0.2, 'landing': 0.2, 'nearby': 0.2, 'month': 0.2, 'period': 0.2, 'winter': 0.2, 'leg': 0.2, '10': 0.2, 'days': 0.2, '’': 0.2, 'treatment': 0.2, 'shoulder': 0.2, 'properly': 0.2, 'hospitalized': 0.2, 'manpower': 0.2, 'shortage': 0.2, 'meant': 0.2, 'lines': 0.2, 'found': 0.2, 'amputees': 0.2, 'radio': 0.2, 'duties': 0.2, 'troops': 0.2, 'discarding': 0.2, 'bulletproof': 0.2, 'vests': 0.2, 'minimal': 0.2, 'protective': 0.2, 'value': 0.2, 'help': 0.2, 'strikes': 0.2, 'high': 0.2, 'accuracy': 0.2, 'fire': 0.2, 'god': 0.2, 'willing': 0.2, 'explodes': 0.2, 'crooked': 0.2, 'hit': 0.2}\n"
          ]
        }
      ]
    },
    {
      "cell_type": "code",
      "source": [
        "sent_tokens = [sent for sent in doc.sents]"
      ],
      "metadata": {
        "id": "cEzSJD0ZfWPy"
      },
      "execution_count": 89,
      "outputs": []
    },
    {
      "cell_type": "code",
      "source": [
        "print(sent_tokens)"
      ],
      "metadata": {
        "colab": {
          "base_uri": "https://localhost:8080/"
        },
        "id": "Gus9qgBYfn_e",
        "outputId": "012789ec-91e1-485e-88eb-7d140177dec0"
      },
      "execution_count": 90,
      "outputs": [
        {
          "output_type": "stream",
          "name": "stdout",
          "text": [
            "[One fighter was shot twice, sent from the hospital back to the front, where he drank melted snow to live., Forced to assault Ukrainian positions repeatedly, until a grenade blinded him., Saved from the trenches by a doctor who made him a hospital orderly.\n",
            ", Another was jailed at 20 for minor drugs charges, sent to the front aged 23., Given almost no training, he was dead three weeks later - among likely 60 Russians killed in an assault on the very day Russian President Vladimir Putin celebrated the defeat of the Nazis in Red Square.\n",
            ", These two stories, of remarkable survival and premature death, epitomize the squalid and exhausting loss of life in Russia’s trenches., Yet there is one distinction: the dead are prisoners, promised respite from their jail terms if they join so-called Storm-Z battalions run by the Russian Ministry of Defense.\n",
            ", Life expectancy is short, conditions themselves tough to survive, and convicts describe being used as cannon fodder., Tens of thousands of convicts have been recruited to serve at the front line, at first by the mercenary group Wagner – a scheme then taken over by the defense ministry.\n",
            ", CNN spoke to the mother of one convict, Andrei, who was jailed aged 20 on drug charges and sent to the front line as part of the Russian military’s recruitment program., The mother provided extensive video, documentation and chat messages to verify her son’s story, and his early death, just three weeks after deployment.\n",
            ", CNN also spoke to a rare survivor of the Storm-Z units, Sergei – who was first interviewed by phone in a military hospital months earlier and last week recounted the savage and deteriorating life in the Russian trenches.\n",
            ", While the appalling fighting conditions are well known, much Russian testimony is from prisoners of war, and provided through Ukrainian facilitators., These two stories represent rare testimony delivered directly from Russians., CNN has changed the names and removed key details from these two accounts for the safety of the interviewees.\n",
            ", Sergei now works two jobs to keep his family fed, but said he is still waiting for military compensation for his multiple injuries., His ears ring at night from the shell shock, making it hard to sleep in the silence of his home.\n",
            ", He said he was concussed nine times from artillery shells landing nearby while on the front line, over an eight-month period., Last winter he was shot in the leg, then sent back to the front after 10 days’ treatment, he said., He was shot again, in the shoulder, and properly hospitalized., Two months later, a manpower shortage meant he was sent again to the front lines, where he said he found convict amputees had been given radio duties, and troops were discarding their bulletproof vests as they had minimal protective value.\n",
            ", “They don’t help against shells, since their [Ukrainian] artillery strikes with high accuracy,” Sergei said., “Our artillery can fire three or four times, and God willing something explodes., It’s crooked and most often, it hit us first.”]\n"
          ]
        }
      ]
    },
    {
      "cell_type": "code",
      "source": [
        "sent_Score = {}"
      ],
      "metadata": {
        "id": "NV9FxRHogZJU"
      },
      "execution_count": 97,
      "outputs": []
    },
    {
      "cell_type": "code",
      "source": [
        "for sent in sent_tokens:\n",
        "    for word in sent:\n",
        "        if word.text.lower() in dict1.keys():\n",
        "            if sent not in sent_Score.keys():\n",
        "                sent_Score[sent] = dict1[word.text.lower()]\n",
        "            else:\n",
        "                sent_Score[sent] += dict1[word.text.lower()]"
      ],
      "metadata": {
        "id": "M8n5SJT_f4cl"
      },
      "execution_count": 98,
      "outputs": []
    },
    {
      "cell_type": "code",
      "source": [
        "sent_Score"
      ],
      "metadata": {
        "colab": {
          "base_uri": "https://localhost:8080/"
        },
        "id": "7s55h8JpgssG",
        "outputId": "3635a8da-52de-4b7a-cd2b-2567660d0361"
      },
      "execution_count": 99,
      "outputs": [
        {
          "output_type": "execute_result",
          "data": {
            "text/plain": [
              "{One fighter was shot twice, sent from the hospital back to the front, where he drank melted snow to live.: 3.400000000000001,\n",
              " Forced to assault Ukrainian positions repeatedly, until a grenade blinded him.: 2.0,\n",
              " Saved from the trenches by a doctor who made him a hospital orderly.: 1.8,\n",
              " Another was jailed at 20 for minor drugs charges, sent to the front aged 23.: 3.2,\n",
              " Given almost no training, he was dead three weeks later - among likely 60 Russians killed in an assault on the very day Russian President Vladimir Putin celebrated the defeat of the Nazis in Red Square.: 5.800000000000002,\n",
              " These two stories, of remarkable survival and premature death, epitomize the squalid and exhausting loss of life in Russia’s trenches.: 3.4,\n",
              " Yet there is one distinction: the dead are prisoners, promised respite from their jail terms if they join so-called Storm-Z battalions run by the Russian Ministry of Defense.: 4.800000000000001,\n",
              " Life expectancy is short, conditions themselves tough to survive, and convicts describe being used as cannon fodder.: 2.6000000000000005,\n",
              " Tens of thousands of convicts have been recruited to serve at the front line, at first by the mercenary group Wagner – a scheme then taken over by the defense ministry.: 3.6000000000000005,\n",
              " CNN spoke to the mother of one convict, Andrei, who was jailed aged 20 on drug charges and sent to the front line as part of the Russian military’s recruitment program.: 7.3999999999999995,\n",
              " The mother provided extensive video, documentation and chat messages to verify her son’s story, and his early death, just three weeks after deployment.: 3.6,\n",
              " CNN also spoke to a rare survivor of the Storm-Z units, Sergei – who was first interviewed by phone in a military hospital months earlier and last week recounted the savage and deteriorating life in the Russian trenches.: 8.6,\n",
              " While the appalling fighting conditions are well known, much Russian testimony is from prisoners of war, and provided through Ukrainian facilitators.: 4.2,\n",
              " These two stories represent rare testimony delivered directly from Russians.: 2.1999999999999997,\n",
              " CNN has changed the names and removed key details from these two accounts for the safety of the interviewees.: 2.1999999999999997,\n",
              " Sergei now works two jobs to keep his family fed, but said he is still waiting for military compensation for his multiple injuries.: 3.8000000000000007,\n",
              " His ears ring at night from the shell shock, making it hard to sleep in the silence of his home.: 1.9999999999999998,\n",
              " He said he was concussed nine times from artillery shells landing nearby while on the front line, over an eight-month period.: 4.000000000000001,\n",
              " Last winter he was shot in the leg, then sent back to the front after 10 days’ treatment, he said.: 3.8000000000000007,\n",
              " He was shot again, in the shoulder, and properly hospitalized.: 1.2,\n",
              " Two months later, a manpower shortage meant he was sent again to the front lines, where he said he found convict amputees had been given radio duties, and troops were discarding their bulletproof vests as they had minimal protective value.: 6.400000000000002,\n",
              " “They don’t help against shells, since their [Ukrainian] artillery strikes with high accuracy,” Sergei said.: 4.800000000000001,\n",
              " “Our artillery can fire three or four times, and God willing something explodes.: 2.2,\n",
              " It’s crooked and most often, it hit us first.”: 0.8}"
            ]
          },
          "metadata": {},
          "execution_count": 99
        }
      ]
    },
    {
      "cell_type": "code",
      "source": [
        "from heapq import nlargest"
      ],
      "metadata": {
        "id": "aLWd9Yfdgw-B"
      },
      "execution_count": 100,
      "outputs": []
    },
    {
      "cell_type": "code",
      "source": [
        "len(sent_Score) * 0.3"
      ],
      "metadata": {
        "colab": {
          "base_uri": "https://localhost:8080/"
        },
        "id": "uqEq4c5tg_Aq",
        "outputId": "2aef7516-2d21-4783-872e-d54975b740e1"
      },
      "execution_count": 101,
      "outputs": [
        {
          "output_type": "execute_result",
          "data": {
            "text/plain": [
              "7.199999999999999"
            ]
          },
          "metadata": {},
          "execution_count": 101
        }
      ]
    },
    {
      "cell_type": "code",
      "source": [
        "summary = nlargest( 7 , sent_Score ,sent_Score.get)"
      ],
      "metadata": {
        "id": "TTQj0llEhBof"
      },
      "execution_count": 102,
      "outputs": []
    },
    {
      "cell_type": "code",
      "source": [
        "print(summary , type(summary))\n"
      ],
      "metadata": {
        "colab": {
          "base_uri": "https://localhost:8080/"
        },
        "id": "Jr-xQZxBhoiI",
        "outputId": "afe42dd9-7022-4b17-da6d-47a03cd4ed6a"
      },
      "execution_count": 104,
      "outputs": [
        {
          "output_type": "stream",
          "name": "stdout",
          "text": [
            "[CNN also spoke to a rare survivor of the Storm-Z units, Sergei – who was first interviewed by phone in a military hospital months earlier and last week recounted the savage and deteriorating life in the Russian trenches.\n",
            ", CNN spoke to the mother of one convict, Andrei, who was jailed aged 20 on drug charges and sent to the front line as part of the Russian military’s recruitment program., Two months later, a manpower shortage meant he was sent again to the front lines, where he said he found convict amputees had been given radio duties, and troops were discarding their bulletproof vests as they had minimal protective value.\n",
            ", Given almost no training, he was dead three weeks later - among likely 60 Russians killed in an assault on the very day Russian President Vladimir Putin celebrated the defeat of the Nazis in Red Square.\n",
            ", Yet there is one distinction: the dead are prisoners, promised respite from their jail terms if they join so-called Storm-Z battalions run by the Russian Ministry of Defense.\n",
            ", “They don’t help against shells, since their [Ukrainian] artillery strikes with high accuracy,” Sergei said., While the appalling fighting conditions are well known, much Russian testimony is from prisoners of war, and provided through Ukrainian facilitators.] <class 'list'>\n"
          ]
        }
      ]
    },
    {
      "cell_type": "code",
      "source": [
        "for sent in summary:\n",
        "    print(sent)"
      ],
      "metadata": {
        "colab": {
          "base_uri": "https://localhost:8080/"
        },
        "id": "aichn1r9h9hU",
        "outputId": "6f6d000d-08f0-4277-d7d4-dd598061d26a"
      },
      "execution_count": 105,
      "outputs": [
        {
          "output_type": "stream",
          "name": "stdout",
          "text": [
            "CNN also spoke to a rare survivor of the Storm-Z units, Sergei – who was first interviewed by phone in a military hospital months earlier and last week recounted the savage and deteriorating life in the Russian trenches.\n",
            "\n",
            "CNN spoke to the mother of one convict, Andrei, who was jailed aged 20 on drug charges and sent to the front line as part of the Russian military’s recruitment program.\n",
            "Two months later, a manpower shortage meant he was sent again to the front lines, where he said he found convict amputees had been given radio duties, and troops were discarding their bulletproof vests as they had minimal protective value.\n",
            "\n",
            "Given almost no training, he was dead three weeks later - among likely 60 Russians killed in an assault on the very day Russian President Vladimir Putin celebrated the defeat of the Nazis in Red Square.\n",
            "\n",
            "Yet there is one distinction: the dead are prisoners, promised respite from their jail terms if they join so-called Storm-Z battalions run by the Russian Ministry of Defense.\n",
            "\n",
            "“They don’t help against shells, since their [Ukrainian] artillery strikes with high accuracy,” Sergei said.\n",
            "While the appalling fighting conditions are well known, much Russian testimony is from prisoners of war, and provided through Ukrainian facilitators.\n"
          ]
        }
      ]
    },
    {
      "cell_type": "code",
      "source": [
        "final_sumtext = [word.text for word in summary ]"
      ],
      "metadata": {
        "id": "CiANW4_0hqMn"
      },
      "execution_count": 119,
      "outputs": []
    },
    {
      "cell_type": "code",
      "source": [
        "print(type(final_sumtext[0]))"
      ],
      "metadata": {
        "colab": {
          "base_uri": "https://localhost:8080/"
        },
        "id": "l7RXmy-3kGG9",
        "outputId": "36761f3e-74ee-47a1-a17c-4091636cbd1e"
      },
      "execution_count": 120,
      "outputs": [
        {
          "output_type": "stream",
          "name": "stdout",
          "text": [
            "<class 'str'>\n"
          ]
        }
      ]
    },
    {
      "cell_type": "code",
      "source": [
        "print(final_sumtext)"
      ],
      "metadata": {
        "colab": {
          "base_uri": "https://localhost:8080/"
        },
        "id": "CStL6xffiLvF",
        "outputId": "2add8790-7bfb-486d-fd30-b7a2f91e24b3"
      },
      "execution_count": 110,
      "outputs": [
        {
          "output_type": "stream",
          "name": "stdout",
          "text": [
            "['CNN also spoke to a rare survivor of the Storm-Z units, Sergei – who was first interviewed by phone in a military hospital months earlier and last week recounted the savage and deteriorating life in the Russian trenches.\\n', 'CNN spoke to the mother of one convict, Andrei, who was jailed aged 20 on drug charges and sent to the front line as part of the Russian military’s recruitment program.', 'Two months later, a manpower shortage meant he was sent again to the front lines, where he said he found convict amputees had been given radio duties, and troops were discarding their bulletproof vests as they had minimal protective value.\\n', 'Given almost no training, he was dead three weeks later - among likely 60 Russians killed in an assault on the very day Russian President Vladimir Putin celebrated the defeat of the Nazis in Red Square.\\n', 'Yet there is one distinction: the dead are prisoners, promised respite from their jail terms if they join so-called Storm-Z battalions run by the Russian Ministry of Defense.\\n', '“They don’t help against shells, since their [Ukrainian] artillery strikes with high accuracy,” Sergei said.', 'While the appalling fighting conditions are well known, much Russian testimony is from prisoners of war, and provided through Ukrainian facilitators.']\n"
          ]
        }
      ]
    },
    {
      "cell_type": "code",
      "source": [
        "textt= \" \".join(final_sumtext)"
      ],
      "metadata": {
        "id": "KuypZ8qGiWds"
      },
      "execution_count": 122,
      "outputs": []
    },
    {
      "cell_type": "code",
      "source": [
        "textt"
      ],
      "metadata": {
        "colab": {
          "base_uri": "https://localhost:8080/",
          "height": 157
        },
        "id": "6ZCylJ8EijYv",
        "outputId": "3bb4c026-8d83-4ead-fc72-b71b9569f6a1"
      },
      "execution_count": 123,
      "outputs": [
        {
          "output_type": "execute_result",
          "data": {
            "text/plain": [
              "'CNN also spoke to a rare survivor of the Storm-Z units, Sergei – who was first interviewed by phone in a military hospital months earlier and last week recounted the savage and deteriorating life in the Russian trenches.\\n CNN spoke to the mother of one convict, Andrei, who was jailed aged 20 on drug charges and sent to the front line as part of the Russian military’s recruitment program. Two months later, a manpower shortage meant he was sent again to the front lines, where he said he found convict amputees had been given radio duties, and troops were discarding their bulletproof vests as they had minimal protective value.\\n Given almost no training, he was dead three weeks later - among likely 60 Russians killed in an assault on the very day Russian President Vladimir Putin celebrated the defeat of the Nazis in Red Square.\\n Yet there is one distinction: the dead are prisoners, promised respite from their jail terms if they join so-called Storm-Z battalions run by the Russian Ministry of Defense.\\n “They don’t help against shells, since their [Ukrainian] artillery strikes with high accuracy,” Sergei said. While the appalling fighting conditions are well known, much Russian testimony is from prisoners of war, and provided through Ukrainian facilitators.'"
            ],
            "application/vnd.google.colaboratory.intrinsic+json": {
              "type": "string"
            }
          },
          "metadata": {},
          "execution_count": 123
        }
      ]
    },
    {
      "cell_type": "code",
      "source": [
        "def func(value):\n",
        "    return ''.join(value.splitlines())"
      ],
      "metadata": {
        "id": "vBv7MZWKk5J4"
      },
      "execution_count": 127,
      "outputs": []
    },
    {
      "cell_type": "code",
      "source": [
        "text= func(textt)"
      ],
      "metadata": {
        "id": "qvZKhLJUkhzw"
      },
      "execution_count": 128,
      "outputs": []
    },
    {
      "cell_type": "code",
      "source": [
        "text"
      ],
      "metadata": {
        "colab": {
          "base_uri": "https://localhost:8080/",
          "height": 174
        },
        "id": "a39ROskTlE3Y",
        "outputId": "22a1cf32-2563-4f56-923f-15e1c498d3a8"
      },
      "execution_count": 129,
      "outputs": [
        {
          "output_type": "execute_result",
          "data": {
            "text/plain": [
              "'CNN also spoke to a rare survivor of the Storm-Z units, Sergei – who was first interviewed by phone in a military hospital months earlier and last week recounted the savage and deteriorating life in the Russian trenches. CNN spoke to the mother of one convict, Andrei, who was jailed aged 20 on drug charges and sent to the front line as part of the Russian military’s recruitment program. Two months later, a manpower shortage meant he was sent again to the front lines, where he said he found convict amputees had been given radio duties, and troops were discarding their bulletproof vests as they had minimal protective value. Given almost no training, he was dead three weeks later - among likely 60 Russians killed in an assault on the very day Russian President Vladimir Putin celebrated the defeat of the Nazis in Red Square. Yet there is one distinction: the dead are prisoners, promised respite from their jail terms if they join so-called Storm-Z battalions run by the Russian Ministry of Defense. “They don’t help against shells, since their [Ukrainian] artillery strikes with high accuracy,” Sergei said. While the appalling fighting conditions are well known, much Russian testimony is from prisoners of war, and provided through Ukrainian facilitators.'"
            ],
            "application/vnd.google.colaboratory.intrinsic+json": {
              "type": "string"
            }
          },
          "metadata": {},
          "execution_count": 129
        }
      ]
    }
  ]
}